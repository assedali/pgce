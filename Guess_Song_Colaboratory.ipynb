{
  "cells": [
    {
      "cell_type": "markdown",
      "metadata": {
        "id": "view-in-github",
        "colab_type": "text"
      },
      "source": [
        "<a href=\"https://colab.research.google.com/github/assedali/pgce/blob/main/Guess_Song_Colaboratory.ipynb\" target=\"_parent\"><img src=\"https://colab.research.google.com/assets/colab-badge.svg\" alt=\"Open In Colab\"/></a>"
      ]
    },
    {
      "cell_type": "code",
      "execution_count": null,
      "metadata": {
        "colab": {
          "base_uri": "https://localhost:8080/"
        },
        "id": "gJr_9dXGpJ05",
        "outputId": "64b2d75d-3f8e-42ee-ecb8-16f2efec44f3"
      },
      "outputs": [
        {
          "output_type": "stream",
          "name": "stdout",
          "text": [
            "{\n",
            "  \"This Is Song1\": \"Artis1\",\n",
            "  \"That Was Song2\": \"Artis2\"\n",
            "}\n"
          ]
        }
      ],
      "source": [
        "# Online Python - IDE, Editor, Compiler, Interpreter\n",
        "import random\n",
        "import re\n",
        "\n",
        "def first_letter(string):\n",
        "   words = re.findall(r'\\b\\w', string)\n",
        "   return \" \".join(words)\n",
        "\n",
        "theSongs = {\n",
        "  \"This Is Song1\": \"Artis1\",\n",
        "  \"That Was Song2\": \"Artis2\"\n",
        "}\n",
        "\n",
        "f = open(\"songs.txt\", \"r\")\n",
        "\n",
        "\n",
        "\n",
        "users = [\"user\", \"user1\"]\n",
        "songs = [\"This Is Song1\", \"That Was Song2\"]\n",
        "userScore = 0\n",
        "\n",
        "#Enter User credentials\n",
        "userName = input('Enter user name: ')\n",
        "\n",
        "if userName in users:\n",
        "    attemptCounter = 0\n",
        "    print(\"************************************************\")\n",
        "    print(\"Guess the below song using 2 Attempts maximum:\")\n",
        "    while attemptCounter < 2:\n",
        "        print(\"Attempt Number: \", attemptCounter+1, \" Good Luck!\")\n",
        "        print(\"************************************************\")\n",
        "        selectedSong = random.choice(songs)\n",
        "        attemptCounter = attemptCounter+1\n",
        "\n",
        "        print( \"Song Initials: \"+first_letter(selectedSong))\n",
        "        print(\"Artist: \"+theSongs[selectedSong])\n",
        "\n",
        "        guessedSong = input(\"Guess the above song using maximum 2 Attempts: \")\n",
        "\n",
        "        if guessedSong in theSongs:\n",
        "            if attemptCounter == 1:\n",
        "                userScore = userScore + 3\n",
        "            else:\n",
        "                userScore = userScore + 1\n",
        "            attemptCounter = attemptCounter - 1\n",
        "\n",
        "    print(\"You have used 2 attempts, Here is your Score: \",userScore)\n",
        "\n",
        "\n"
      ]
    }
  ],
  "metadata": {
    "colab": {
      "name": "Welcome to Colaboratory",
      "provenance": [],
      "include_colab_link": true
    },
    "kernelspec": {
      "display_name": "Python 3",
      "name": "python3"
    }
  },
  "nbformat": 4,
  "nbformat_minor": 0
}